{
  "nbformat": 4,
  "nbformat_minor": 0,
  "metadata": {
    "colab": {
      "provenance": []
    },
    "kernelspec": {
      "name": "python3",
      "display_name": "Python 3"
    },
    "language_info": {
      "name": "python"
    }
  },
  "cells": [
    {
      "cell_type": "code",
      "execution_count": 1,
      "metadata": {
        "id": "ezDYFu48u_hm"
      },
      "outputs": [],
      "source": [
        "FED_KEY= '9dd3ac607ef22dec7e4ba3edae4d2b89'"
      ]
    },
    {
      "cell_type": "code",
      "source": [
        "# prompt: ‘using the above api key, use federal reserve data (FRED) to get bitcoin and CPI announcement data, and construct a granger causality analysis between these two data sets’\n",
        "\n",
        "!pip install fredapi\n",
        "\n",
        "import pandas as pd\n",
        "from fredapi import Fred\n",
        "from statsmodels.tsa.stattools import grangercausalitytests\n",
        "\n",
        "# Replace with your actual FRED API key\n",
        "FED_KEY = '9dd3ac607ef22dec7e4ba3edae4d2b89'\n",
        "\n",
        "fred = Fred(api_key=FED_KEY)\n",
        "\n",
        "try:\n",
        "    # Fetch Bitcoin data (replace 'CBBTCUSD' with the correct FRED series ID if different)\n",
        "    bitcoin_data = fred.get_series('CBBTCUSD')\n",
        "\n",
        "    # Fetch CPI data (replace 'CPIAUCSL' with the correct FRED series ID if needed)\n",
        "    cpi_data = fred.get_series('CPIAUCSL')\n",
        "\n",
        "    # Create a DataFrame\n",
        "    df = pd.DataFrame({'bitcoin': bitcoin_data, 'cpi': cpi_data})\n",
        "\n",
        "    # Ensure both series have the same length (handle missing data if necessary)\n",
        "    df = df.dropna()\n",
        "\n",
        "    # Perform Granger Causality Test\n",
        "    maxlag=12 # You can adjust this parameter.\n",
        "    test_result = grangercausalitytests(df[['bitcoin', 'cpi']], maxlag=maxlag, verbose=False)\n",
        "\n",
        "    # Print the test results\n",
        "    for lag, result in test_result.items():\n",
        "      print(f\"Lag: {lag}\")\n",
        "      p_values = [round(result[0]['ssr_ftest'][1],4)]\n",
        "      print('p-value:', p_values)\n",
        "\n",
        "except Exception as e:\n",
        "    print(f\"An error occurred: {e}\")"
      ],
      "metadata": {
        "colab": {
          "base_uri": "https://localhost:8080/"
        },
        "id": "K5uFXYoH2dlM",
        "outputId": "38df3522-efb4-4be4-b1b6-8be1d1b50a38"
      },
      "execution_count": 3,
      "outputs": [
        {
          "output_type": "stream",
          "name": "stdout",
          "text": [
            "Collecting fredapi\n",
            "  Downloading fredapi-0.5.2-py3-none-any.whl.metadata (5.0 kB)\n",
            "Requirement already satisfied: pandas in /usr/local/lib/python3.10/dist-packages (from fredapi) (2.2.2)\n",
            "Requirement already satisfied: numpy>=1.22.4 in /usr/local/lib/python3.10/dist-packages (from pandas->fredapi) (1.26.4)\n",
            "Requirement already satisfied: python-dateutil>=2.8.2 in /usr/local/lib/python3.10/dist-packages (from pandas->fredapi) (2.8.2)\n",
            "Requirement already satisfied: pytz>=2020.1 in /usr/local/lib/python3.10/dist-packages (from pandas->fredapi) (2024.2)\n",
            "Requirement already satisfied: tzdata>=2022.7 in /usr/local/lib/python3.10/dist-packages (from pandas->fredapi) (2024.2)\n",
            "Requirement already satisfied: six>=1.5 in /usr/local/lib/python3.10/dist-packages (from python-dateutil>=2.8.2->pandas->fredapi) (1.16.0)\n",
            "Downloading fredapi-0.5.2-py3-none-any.whl (11 kB)\n",
            "Installing collected packages: fredapi\n",
            "Successfully installed fredapi-0.5.2\n",
            "Lag: 1\n",
            "p-value: [0.0931]\n",
            "Lag: 2\n",
            "p-value: [0.1242]\n",
            "Lag: 3\n",
            "p-value: [0.1934]\n",
            "Lag: 4\n",
            "p-value: [0.3685]\n",
            "Lag: 5\n",
            "p-value: [0.4263]\n",
            "Lag: 6\n",
            "p-value: [0.556]\n",
            "Lag: 7\n",
            "p-value: [0.5683]\n",
            "Lag: 8\n",
            "p-value: [0.5512]\n",
            "Lag: 9\n",
            "p-value: [0.4234]\n",
            "Lag: 10\n",
            "p-value: [0.7151]\n",
            "Lag: 11\n",
            "p-value: [0.5364]\n",
            "Lag: 12\n",
            "p-value: [0.1211]\n"
          ]
        },
        {
          "output_type": "stream",
          "name": "stderr",
          "text": [
            "/usr/local/lib/python3.10/dist-packages/statsmodels/tsa/stattools.py:1556: FutureWarning: verbose is deprecated since functions should not print results\n",
            "  warnings.warn(\n"
          ]
        }
      ]
    }
  ]
}